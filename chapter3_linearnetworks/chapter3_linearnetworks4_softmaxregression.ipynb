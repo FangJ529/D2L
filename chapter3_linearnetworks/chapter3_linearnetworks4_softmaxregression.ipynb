{
 "cells": [
  {
   "cell_type": "markdown",
   "id": "d6b7f5c3",
   "metadata": {},
   "source": [
    "$$\n",
    "\\text{Softmax}(z)_i = \\frac{\\exp(z_i)}{\\sum_{j=1}^{n} \\exp(z_j)}\n",
    "$$\n",
    "\n",
    "其中：\n",
    "- $z = (z_1, z_2, \\ldots, z_n)$ 是输入向量\n",
    "- $n$ 是类别数量\n",
    "- 输出满足：$\\sum_{i=1}^{n} \\text{Softmax}(z)_i = 1$"
   ]
  }
 ],
 "metadata": {
  "language_info": {
   "name": "python"
  }
 },
 "nbformat": 4,
 "nbformat_minor": 5
}
